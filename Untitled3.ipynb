{
 "cells": [
  {
   "cell_type": "code",
   "execution_count": 235,
   "metadata": {},
   "outputs": [],
   "source": [
    "import numpy as np;\n",
    "import matplotlib.pyplot as plt"
   ]
  },
  {
   "cell_type": "code",
   "execution_count": 236,
   "metadata": {
    "scrolled": true
   },
   "outputs": [
    {
     "name": "stdout",
     "output_type": "stream",
     "text": [
      "[[1. 0. 0. 0. 0.]\n",
      " [0. 1. 0. 0. 0.]\n",
      " [0. 0. 1. 0. 0.]\n",
      " [0. 0. 0. 1. 0.]\n",
      " [0. 0. 0. 0. 1.]]\n"
     ]
    }
   ],
   "source": [
    "print(np.eye(5))"
   ]
  },
  {
   "cell_type": "code",
   "execution_count": 338,
   "metadata": {},
   "outputs": [
    {
     "data": {
      "text/plain": [
       "Text(0.5, 1.0, 'Scatter,Plot')"
      ]
     },
     "execution_count": 338,
     "metadata": {},
     "output_type": "execute_result"
    },
    {
     "data": {
      "image/png": "[encoded data removed]",
      "text/plain": [
       "<Figure size 432x288 with 1 Axes>"
      ]
     },
     "metadata": {
      "needs_background": "light"
     },
     "output_type": "display_data"
    }
   ],
   "source": [
    "with open('ex1data1.txt','r') as f:\n",
    "    data = f.read()\n",
    "data = data.split('\\n')\n",
    "data1 = []\n",
    "for i in range(len(data)):\n",
    "    temp = data[i].split(',')\n",
    "    data1.append([float(temp[0]),float(temp[1])])\n",
    "data2 = np.array(data1)\n",
    "x = data2[:,:1].reshape(97,).tolist()\n",
    "y = data2[:,1:].reshape(97,).tolist()\n",
    "#plt.figure(figsize=(8,5))\n",
    "# test = np.random.standard_normal((600,2))\n",
    "# print(test)\n",
    "# print(data2)\n",
    "plt.plot(data2[:,0],data2[:,1],'ro')\n",
    "plt.xlabel('X')\n",
    "plt.ylabel('Y')\n",
    "plt.title('Scatter,Plot')"
   ]
  },
  {
   "cell_type": "code",
   "execution_count": 55,
   "metadata": {},
   "outputs": [],
   "source": [
    "# print(np.zeros((2,1),dtype=int))\n",
    "# a = np.zeros((2,1),dtype=int)\n",
    "# a[0][0] = 1\n",
    "# print(a)\n",
    "# print(X.shape)\n",
    "# print(theta.shape)\n",
    "# print(np.array(y).reshape(97,1))"
   ]
  },
  {
   "cell_type": "code",
   "execution_count": 339,
   "metadata": {},
   "outputs": [],
   "source": [
    "def computeCost(X,y,theta):\n",
    "    m,n = y.shape\n",
    "    J = 0\n",
    "    J = (1/2*m)*sum(np.square(np.dot(X,theta) - y))\n",
    "    return J\n",
    "\n",
    "def gradientDescent(X,y,theta,alpha,num_iters):\n",
    "    m,n = y.shape\n",
    "    J_history = np.zeros((num_iters,1),dtype=float)\n",
    "    for i in range(num_iters):\n",
    "        theta = theta - (alpha/m) * sum(np.dot(X.T,(np.dot(X,theta) - y)))\n",
    "        J_history[i][0] = computeCost(X,y,theta)\n",
    "    return theta,J_history\n",
    "\n",
    "def gradientDescent1(X,y,theta,alpha,num_iters):\n",
    "    m,n = y.shape\n",
    "    J_history = np.zeros((num_iters,1),dtype=float)\n",
    "    for i in range(num_iters):\n",
    "        error = np.dot(X,theta) - y\n",
    "        temp0 = theta[0][0] - (alpha/m)*sum(np.dot(error.T,X[:,0:1]))\n",
    "        temp1 = theta[1][0] - (alpha/m)*sum(np.dot(error.T,X[:,1:]))\n",
    "        theta = [temp0,temp1]\n",
    "        theta = np.array(theta)\n",
    "        J_history[i][0] = computeCost(X,y,theta)\n",
    "    return theta,J_history"
   ]
  },
  {
   "cell_type": "code",
   "execution_count": 351,
   "metadata": {
    "scrolled": false
   },
   "outputs": [
    {
     "name": "stdout",
     "output_type": "stream",
     "text": [
      "Theta found by gradient descent:\n",
      "%f %f \n",
      " 0.8146746890607992 -0.12954789206392855\n"
     ]
    },
    {
     "data": {
      "image/png": "[encoded data removed]",
      "text/plain": [
       "<Figure size 432x288 with 1 Axes>"
      ]
     },
     "metadata": {
      "needs_background": "light"
     },
     "output_type": "display_data"
    }
   ],
   "source": [
    "X = np.hstack((data2[:,:1],np.ones((97,1))))\n",
    "theta = np.zeros((2,1),dtype=int)\n",
    "\n",
    "iteration = 5000\n",
    "alpha = 0.00006\n",
    "y = np.array(y).reshape(len(y),1)\n",
    "# computeCost(X,y,theta)\n",
    "(theta,J_history) = gradientDescent1(X,y,theta,alpha,iteration)\n",
    "print('Theta found by gradient descent:')\n",
    "print('%f %f \\n',theta[0][0],theta[1][0])\n",
    "y1 = np.dot(X,theta)\n",
    "plt.plot(X[:,0],y1,'r')\n",
    "plt.scatter(X[:,0],y[:,0],color=\"black\")\n",
    "plt.show()"
   ]
  },
  {
   "cell_type": "code",
   "execution_count": 321,
   "metadata": {},
   "outputs": [
    {
     "name": "stdout",
     "output_type": "stream",
     "text": [
      "[[297741.28330689]\n",
      " [293776.22293566]\n",
      " [289876.09089551]\n",
      " ...\n",
      " [ 54950.21168788]\n",
      " [ 54949.74927611]\n",
      " [ 54949.28688101]] [[ 0.80430136]\n",
      " [-0.02632385]]\n"
     ]
    }
   ],
   "source": []
  },
  {
   "cell_type": "code",
   "execution_count": 330,
   "metadata": {},
   "outputs": [
    {
     "name": "stdout",
     "output_type": "stream",
     "text": [
      "Theta found by gradient descent:\n",
      "%f %f \n",
      " 0.879924650998399 -0.7790542817610308\n"
     ]
    },
    {
     "data": {
      "image/png": "[encoded data removed]",
      "text/plain": [
       "<Figure size 432x288 with 1 Axes>"
      ]
     },
     "metadata": {
      "needs_background": "light"
     },
     "output_type": "display_data"
    }
   ],
   "source": [
    "\n",
    "# plt.plot(range(iteration),J_history[:,0])\n",
    "# plt.xlabel('iteration')\n",
    "# plt.ylabel('history_loss')"
   ]
  },
  {
   "cell_type": "code",
   "execution_count": null,
   "metadata": {},
   "outputs": [],
   "source": []
  }
 ],
 "metadata": {
  "kernelspec": {
   "display_name": "Python 3",
   "language": "python",
   "name": "python3"
  },
  "language_info": {
   "codemirror_mode": {
    "name": "ipython",
    "version": 3
   },
   "file_extension": ".py",
   "mimetype": "text/x-python",
   "name": "python",
   "nbconvert_exporter": "python",
   "pygments_lexer": "ipython3",
   "version": "3.7.0"
  }
 },
 "nbformat": 4,
 "nbformat_minor": 2
}
